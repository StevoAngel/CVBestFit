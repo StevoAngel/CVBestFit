{
 "cells": [
  {
   "cell_type": "markdown",
   "id": "e43976f9",
   "metadata": {},
   "source": [
    "### Entrenamiento del modelo Word2Vec con la información de todos los CV y descripciones de trabajo disponibles"
   ]
  },
  {
   "cell_type": "code",
   "execution_count": null,
   "id": "ddea4a57",
   "metadata": {},
   "outputs": [],
   "source": [
    "import os\n",
    "import logging\n",
    "import pdfplumber\n",
    "from gensim.models import Word2Vec"
   ]
  },
  {
   "cell_type": "code",
   "execution_count": 3,
   "id": "12c8a20a",
   "metadata": {},
   "outputs": [],
   "source": [
    "def extractText(docPath):\n",
    "    \"\"\" Extrae y concatena el texto de todas las páginas de un archivo PDF.\"\"\"\n",
    "    with pdfplumber.open(docPath) as pdf:\n",
    "        return \"\\n\".join([page.extract_text() or '' for page in pdf.pages])\n",
    "\n",
    "def concatAllTexts(textPath):\n",
    "    \"\"\" Concatena el texto de todos los archivos .pdf en un directorio dado.\"\"\"\n",
    "    allTexts = []\n",
    "    for file in os.listdir(textPath):\n",
    "        if file.endswith('.pdf'): # Solo archivos PDF\n",
    "            cPath = os.path.join(textPath, file)\n",
    "            text = extractText(cPath) # Extraer el texto del documento actual\n",
    "            allTexts.append(text)\n",
    "\n",
    "        ######################## Suprimir avisos de pdfplumber sobre cropbox ############################\n",
    "        logging.getLogger(\"pdfminer\").setLevel(logging.ERROR)\n",
    "\n",
    "    return allTexts"
   ]
  },
  {
   "cell_type": "code",
   "execution_count": null,
   "id": "8fe6c959",
   "metadata": {},
   "outputs": [],
   "source": [
    "# Se entrena el modelo Word2Vec con todos los CVs y la descripción de la vacante:\n",
    "trainingSetPath = r'C:\\Users\\Estiven Angel\\NLP_p2025\\CVBestFit\\cvsTrainingSet\\all' # Ruta del set de entrenamiento del modelo\n",
    "\n",
    "# Almacenar los CVs:\n",
    "trainingTexts = concatAllTexts(trainingSetPath) # Textos concatenados para entrenamiento"
   ]
  },
  {
   "cell_type": "code",
   "execution_count": 5,
   "id": "c7e659a4",
   "metadata": {},
   "outputs": [],
   "source": [
    "# Se tokenizan los textos de trainingTexts para el entrenamiento del modelo:\n",
    "tokenizedTrainingText = [text.lower().split() for text in trainingTexts] # Se convierten también a minúsculas\n",
    "# Se entrena el modelo Word2Vec:\n",
    "modelW2V = Word2Vec(sentences=tokenizedTrainingText, vector_size=100, min_count=1, sg=1)"
   ]
  },
  {
   "cell_type": "code",
   "execution_count": 6,
   "id": "cf809d5a",
   "metadata": {},
   "outputs": [],
   "source": [
    "# Se guarda el modelo entrenado:\n",
    "modelW2V.save(r'modelW2V/modelW2V.model') # Ruta donde se guardará el modelo entrenado"
   ]
  }
 ],
 "metadata": {
  "kernelspec": {
   "display_name": "Python 3",
   "language": "python",
   "name": "python3"
  },
  "language_info": {
   "codemirror_mode": {
    "name": "ipython",
    "version": 3
   },
   "file_extension": ".py",
   "mimetype": "text/x-python",
   "name": "python",
   "nbconvert_exporter": "python",
   "pygments_lexer": "ipython3",
   "version": "3.12.8"
  }
 },
 "nbformat": 4,
 "nbformat_minor": 5
}
