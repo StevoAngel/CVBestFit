{
 "cells": [
  {
   "cell_type": "code",
   "execution_count": 1,
   "id": "df5cd728",
   "metadata": {},
   "outputs": [
    {
     "name": "stdout",
     "output_type": "stream",
     "text": [
      "Modelo de Ollama cargado correctamente.\n"
     ]
    }
   ],
   "source": [
    "import logging\n",
    "import llmParser\n",
    "import pdfplumber"
   ]
  },
  {
   "cell_type": "code",
   "execution_count": 2,
   "id": "46b93e4c",
   "metadata": {},
   "outputs": [],
   "source": [
    "def extractText(docPath):\n",
    "    ######################## Suprimir avisos de pdfplumber sobre cropbox ############################\n",
    "    logging.getLogger(\"pdfminer\").setLevel(logging.ERROR)\n",
    "    logging.getLogger(\"pdfplumber\").setLevel(logging.ERROR)\n",
    "    \n",
    "    \"\"\" Extrae y concatena el texto de todas las páginas de un archivo PDF.\"\"\"\n",
    "    with pdfplumber.open(docPath) as pdf:\n",
    "        return \"\\n\".join([page.extract_text() or '' for page in pdf.pages])\n",
    "\n",
    "cvFile = r'C:\\Users\\Estiven Angel\\NLP_p2025\\CVBestFit\\cvs\\CVP-AbdielJimenez.pdf'\n",
    "jobDescriptionFile = r'C:\\Users\\Estiven Angel\\NLP_p2025\\CVBestFit\\jobDescriptions\\Especialista en Instrumentacion y control.pdf'\n",
    "\n",
    "cvText =  extractText(cvFile)\n",
    "jobDescriptionText = extractText(jobDescriptionFile)"
   ]
  },
  {
   "cell_type": "code",
   "execution_count": 3,
   "id": "704153de",
   "metadata": {},
   "outputs": [
    {
     "name": "stdout",
     "output_type": "stream",
     "text": [
      "CV Information Response:\n",
      " {\n",
      "      \"name\": \"Abdiel Jimenez\",\n",
      "      \"email\": \"abdieljimenez94@gmail.com\",\n",
      "      \"phone\": \"+507 6842-7197\",\n",
      "      \"location\": \"Panamá, Panamá\",\n",
      "      \"profile\": \"Ing. Electromecánico con un carácter cordial y agradable, con habilidad para resolución de problemas de caracter Operador Tecnico de linea de envasado. Trabajo en equipo y adaptabilidad a cualquier ambiente labora. Realización y control de efectivas que producen un impacto 5s para mantener los equipos en condiciones básicas todo el tiempo y LOTO para intervención segura de los equipos. Mantiene los equipos lo más fiables posible, realiza mantenimientos correctivos, preventivos e inspecciones diarias de los equipos de la planta. Brinda soporte a los sistemas de CO2 y NH3 (amoniaco), y realiza mejoras en los procesos presentes dentro la planta que ayuden a minimizar los costos, consumo de materia prima u otro rubro como por ejemplo controles eléctricos, de potencia y mecánicos así como su debida resolución.\",\n",
      "      \"experience\": [\"Cerveceria Heineken Panama: Julio 2021-Actualidad\"],\n",
      "      \"education\": [\"Universidad Tecnologica de Panama: Lic. En Ing. Electromecanica\"],\n",
      "      \"hardSkills\": [\"Sistemas electricos de potencia, control e instrumentacion industriales\", \"Ing. Electrico y de Automatizacion\", \"Mantenimiento en calderas de vapor\", \"Mantenimiento en sistemas de CO2 y NH3 (amoniaco)\"],\n",
      "      \"softSkills\": [\"Trabajo en equipo\", \"Adaptabilidad a cualquier ambiente labora\"]\n",
      "   }\n"
     ]
    }
   ],
   "source": [
    "analizer = llmParser.LLMParser()\n",
    "cvInfo = analizer.extract_CVInfo(cvText, True)"
   ]
  },
  {
   "cell_type": "code",
   "execution_count": 4,
   "id": "8387e41a",
   "metadata": {},
   "outputs": [
    {
     "name": "stdout",
     "output_type": "stream",
     "text": [
      "Job Description Information Response:\n",
      " {\n",
      "       \"title\": \"Mantenimiento y Control de la Planta\",\n",
      "       \"description\": \"Responsabilidades principales: Realizar trabajos de mantenimiento y crear backup al sistema de control de la planta y equipos principales; Ejecutar junto a la coordinación eléctrica modificaciones, actualizaciones y programación a los PLCs de planta. Liderar proyectos de mejoras de procesos, actualizaciones del sistema de control. Ejecutar mejora y mantenimientos correctivos a instrumentos de medición para el proceso. Coordinar los trabajos de mantenimiento con el responsable de turno.\",\n",
      "       \"responsibilities\": [\"Realizar trabajos de mantenimiento y crear backup al sistema de control\", \"Ejecutar junto a la coordinación eléctrica modificaciones, actualizaciones y programación a los PLCs de planta\", \"Liderar proyectos de mejoras de procesos, actualizaciones del sistema de control\", \"Ejecutar mejora y mantenimientos correctivos a instrumentos de medición para el proceso\", \"Coordinar los trabajos de mantenimiento con el responsable de turno\"],\n",
      "       \"hardSkills\": [\"SAP Modulo de mantenimiento\", \"ELECTRONICA\", \"OFFICE\"],\n",
      "       \"softSkills\": [\"Calibracion de sensores\", \"electroneumatica\", \"Conocimiento en PLCs como Siemens o Allen Bradley\"],\n",
      "       \"location\": \"Panama\"\n",
      "   }\n"
     ]
    }
   ],
   "source": [
    "jobInfo = analizer.extract_jobDescriptionInfo(jobDescriptionText, True)"
   ]
  },
  {
   "cell_type": "code",
   "execution_count": 21,
   "id": "cb04f4d8",
   "metadata": {},
   "outputs": [
    {
     "data": {
      "text/plain": [
       "['Calibracion de sensores',\n",
       " 'electroneumatica',\n",
       " 'Conocimiento en PLCs como Siemens o Allen Bradley']"
      ]
     },
     "execution_count": 21,
     "metadata": {},
     "output_type": "execute_result"
    }
   ],
   "source": [
    "jobInfo.softSkills"
   ]
  },
  {
   "cell_type": "code",
   "execution_count": null,
   "id": "23c566ca",
   "metadata": {},
   "outputs": [],
   "source": []
  }
 ],
 "metadata": {
  "kernelspec": {
   "display_name": "Python 3",
   "language": "python",
   "name": "python3"
  },
  "language_info": {
   "codemirror_mode": {
    "name": "ipython",
    "version": 3
   },
   "file_extension": ".py",
   "mimetype": "text/x-python",
   "name": "python",
   "nbconvert_exporter": "python",
   "pygments_lexer": "ipython3",
   "version": "3.12.8"
  }
 },
 "nbformat": 4,
 "nbformat_minor": 5
}
